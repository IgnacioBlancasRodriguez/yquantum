{
 "cells": [
  {
   "cell_type": "markdown",
   "id": "d3402fba",
   "metadata": {},
   "source": [
    "# QFT Deployment on Neutral-Atom Systems\n",
    "Over the course of the following tutorial, we will be implementing and deploying the Quantum Fourier Transform Circuit on the Bloqade framework as well as exploring neutral-atom specific optimizations that would take advantage of the parallelization provided by the platfrom."
   ]
  },
  {
   "cell_type": "code",
   "execution_count": 1,
   "id": "62f4d91a",
   "metadata": {},
   "outputs": [],
   "source": [
    "import math\n",
    "\n",
    "from bloqade import qasm2\n",
    "from kirin.dialects import ilist"
   ]
  },
  {
   "cell_type": "code",
   "execution_count": 2,
   "id": "52185a0c",
   "metadata": {},
   "outputs": [],
   "source": [
    "from bloqade.qasm2.emit import QASM2 # the QASM2 target\n",
    "from bloqade.qasm2.parse import pprint # the QASM2 pretty printer"
   ]
  },
  {
   "cell_type": "markdown",
   "id": "ee9ab613",
   "metadata": {},
   "source": [
    "This code is copied from the GHZ tutorial and will be utilized in the QFT implementation"
   ]
  },
  {
   "cell_type": "code",
   "execution_count": 3,
   "id": "942fc96c",
   "metadata": {},
   "outputs": [],
   "source": [
    "from bloqade.qasm2.rewrite.native_gates import RydbergGateSetRewriteRule\n",
    "from kirin import ir\n",
    "from kirin.rewrite import Walk\n",
    "from bloqade.qasm2.passes import UOpToParallel, QASM2Fold\n",
    "\n",
    "\n",
    "@ir.dialect_group(qasm2.extended)\n",
    "def extended_opt(self):\n",
    "    native_rewrite = Walk(RydbergGateSetRewriteRule(self)) # use Kirin's functionality to walk code line by line while applying neutral-atom gate decomposition as defined in Bloqade\n",
    "    parallelize_pass = UOpToParallel(self) # review the code and apply parallelization using a heuristic\n",
    "    agg_fold = QASM2Fold(self) # supports parallelization by unfolding loops to search for parallelization opportunities\n",
    "\n",
    "    # here we define our new compiler pass\n",
    "    def run_pass(\n",
    "        kernel: ir.Method,\n",
    "        *,\n",
    "        fold: bool = True,\n",
    "        typeinfer: bool = True,\n",
    "        parallelize: bool = False,\n",
    "    ):\n",
    "        assert qasm2.extended.run_pass is not None\n",
    "        qasm2.extended.run_pass(kernel, fold=fold, typeinfer=typeinfer) # apply the original run_pass to the lowered kernel\n",
    "        native_rewrite.rewrite(kernel.code) # decompose all gates in the circuit to neutral atom gate set\n",
    "\n",
    "        # here goes our parallelization optimizer; the order of the commands here matters!\n",
    "        if parallelize:\n",
    "            agg_fold.fixpoint(kernel)\n",
    "            parallelize_pass(kernel)\n",
    "\n",
    "    return run_pass"
   ]
  },
  {
   "cell_type": "code",
   "execution_count": 4,
   "id": "77c552e0",
   "metadata": {},
   "outputs": [],
   "source": [
    "def ghz_log_depth(qreg: qasm2.QReg, creg : qasm2.CReg, n: int, parallelize: bool = True):\n",
    "    n_qubits = int(2**n)\n",
    "\n",
    "    @extended_opt\n",
    "    def layer_of_cx(i_layer: int, qreg: qasm2.QReg):\n",
    "        step = n_qubits // (2**i_layer)\n",
    "        for j in range(0, n_qubits, step):\n",
    "            qasm2.cx(ctrl=qreg[j], qarg=qreg[j + step // 2])\n",
    "            qasm2.barrier((qreg[j], qreg[j + step // 2]))\n",
    "\n",
    "\n",
    "    @extended_opt(parallelize=parallelize)\n",
    "    def ghz_log_depth_program():\n",
    "        qasm2.h(qreg[0])\n",
    "        for i in range(n):\n",
    "            layer_of_cx(i_layer=i, qreg=qreg)\n",
    "            \n",
    "        for i in range(n_qubits):\n",
    "            qasm2.measure(qreg[i],creg[i])\n",
    "            \n",
    "        return creg # return register for simulation\n",
    "\n",
    "    return ghz_log_depth_program"
   ]
  },
  {
   "cell_type": "markdown",
   "id": "9037aa0f",
   "metadata": {},
   "source": [
    "This block defines a function to construct a Quantum Fourier Transform (QFT) circuit, optimized for parallel execution. It first computes the total number of qubits and creates a helper function (layer_of_cx_ghz) that applies controlled-X gates with barriers in a patterned manner using an offset and step parameter. The main nested function (qft_program) then builds the circuit by applying Hadamard gates, a series of Rz rotations, and multiple layers of these controlled operations in a structured loop, before measuring each qubit. Finally, the circuit is emitted using the QASM2 target and printed in a readable format, showcasing the parallelization enhancements applied via the extended_opt decorator."
   ]
  },
  {
   "cell_type": "markdown",
   "id": "8d558c8d",
   "metadata": {},
   "source": [
    "The first section of the QFT circuit is canonically as follows, however, it is not in the native gate set for neutral-atom computers. Thus we decomposed the circuit into gates which are native to the architecture, and CNOTs that ressemble the GHZ problem which revealed oppurtunities for parallelization\n",
    "\n",
    "<div align=\"center\">\n",
    "<picture>\n",
    "   <img src=\"ImageYQuantumHBlock.png\" style=\"width: 35vw; min-width: 330px;\" >\n",
    "</picture>\n",
    "</div>"
   ]
  },
  {
   "cell_type": "markdown",
   "id": "dda9780f",
   "metadata": {},
   "source": [
    "<div align=\"center\">\n",
    "<picture>\n",
    "   <img src=\"ImageYQuantumHBlockSecondExpantion.png\" >\n",
    "</picture>\n",
    "</div>"
   ]
  },
  {
   "cell_type": "markdown",
   "id": "779c6a6a",
   "metadata": {},
   "source": [
    "<div align=\"center\">\n",
    "<picture>\n",
    "   <img src=\"Untitled-1.png\" >\n",
    "</picture>\n",
    "</div>"
   ]
  },
  {
   "cell_type": "markdown",
   "id": "f8dd5969",
   "metadata": {},
   "source": [
    "<div align=\"center\">\n",
    "<picture>\n",
    "   <img src=\"Untitled-2.png\" >\n",
    "</picture>\n",
    "</div>\n",
    "\n",
    "These decompositions are from [nature](https://www.nature.com/articles/s41598-023-35625-3#Fig5) and show the CNOTs ressembling the GHZ allowing us to take advantage of the parallelization proposed in the GHZ tutorial provided."
   ]
  },
  {
   "cell_type": "markdown",
   "id": "8d52822a",
   "metadata": {},
   "source": [
    "<div align=\"center\">\n",
    "<picture>\n",
    "   <img src=\"GHZ_linear.png\" style=\"width: 35vw; min-width: 330px;\" >\n",
    "</picture>\n",
    "</div>"
   ]
  },
  {
   "cell_type": "markdown",
   "id": "31341c6c",
   "metadata": {},
   "source": [
    "<div align=\"center\">\n",
    "<picture>\n",
    "   <img src=\"GHZ_parallel.png\" style=\"width: 25vw; height: 25vw;\" >\n",
    "</picture>\n",
    "</div>"
   ]
  },
  {
   "cell_type": "code",
   "execution_count": 5,
   "id": "d2c8c75a",
   "metadata": {},
   "outputs": [
    {
     "name": "stderr",
     "output_type": "stream",
     "text": [
      "/Users/nachoblancasrodriguez/anaconda3/envs/yquantum-quera/lib/python3.13/site-packages/cirq/circuits/circuit_operation.py:173: FutureWarning: In cirq 1.6 the default value of `use_repetition_ids` will change to\n",
      "`use_repetition_ids=False`. To make this warning go away, please pass\n",
      "explicit `use_repetition_ids`, e.g., to preserve current behavior, use\n",
      "\n",
      "  CircuitOperations(..., use_repetition_ids=True)\n",
      "  warnings.warn(msg, FutureWarning)\n",
      "/Users/nachoblancasrodriguez/anaconda3/envs/yquantum-quera/lib/python3.13/site-packages/cirq/circuits/circuit_operation.py:173: FutureWarning: In cirq 1.6 the default value of `use_repetition_ids` will change to\n",
      "`use_repetition_ids=False`. To make this warning go away, please pass\n",
      "explicit `use_repetition_ids`, e.g., to preserve current behavior, use\n",
      "\n",
      "  CircuitOperations(..., use_repetition_ids=True)\n",
      "  warnings.warn(msg, FutureWarning)\n",
      "/Users/nachoblancasrodriguez/anaconda3/envs/yquantum-quera/lib/python3.13/site-packages/cirq/circuits/circuit_operation.py:173: FutureWarning: In cirq 1.6 the default value of `use_repetition_ids` will change to\n",
      "`use_repetition_ids=False`. To make this warning go away, please pass\n",
      "explicit `use_repetition_ids`, e.g., to preserve current behavior, use\n",
      "\n",
      "  CircuitOperations(..., use_repetition_ids=True)\n",
      "  warnings.warn(msg, FutureWarning)\n",
      "/Users/nachoblancasrodriguez/anaconda3/envs/yquantum-quera/lib/python3.13/site-packages/cirq/circuits/circuit_operation.py:173: FutureWarning: In cirq 1.6 the default value of `use_repetition_ids` will change to\n",
      "`use_repetition_ids=False`. To make this warning go away, please pass\n",
      "explicit `use_repetition_ids`, e.g., to preserve current behavior, use\n",
      "\n",
      "  CircuitOperations(..., use_repetition_ids=True)\n",
      "  warnings.warn(msg, FutureWarning)\n",
      "/Users/nachoblancasrodriguez/anaconda3/envs/yquantum-quera/lib/python3.13/site-packages/cirq/circuits/circuit_operation.py:173: FutureWarning: In cirq 1.6 the default value of `use_repetition_ids` will change to\n",
      "`use_repetition_ids=False`. To make this warning go away, please pass\n",
      "explicit `use_repetition_ids`, e.g., to preserve current behavior, use\n",
      "\n",
      "  CircuitOperations(..., use_repetition_ids=True)\n",
      "  warnings.warn(msg, FutureWarning)\n",
      "/Users/nachoblancasrodriguez/anaconda3/envs/yquantum-quera/lib/python3.13/site-packages/cirq/circuits/circuit_operation.py:173: FutureWarning: In cirq 1.6 the default value of `use_repetition_ids` will change to\n",
      "`use_repetition_ids=False`. To make this warning go away, please pass\n",
      "explicit `use_repetition_ids`, e.g., to preserve current behavior, use\n",
      "\n",
      "  CircuitOperations(..., use_repetition_ids=True)\n",
      "  warnings.warn(msg, FutureWarning)\n",
      "/Users/nachoblancasrodriguez/anaconda3/envs/yquantum-quera/lib/python3.13/site-packages/cirq/circuits/circuit_operation.py:173: FutureWarning: In cirq 1.6 the default value of `use_repetition_ids` will change to\n",
      "`use_repetition_ids=False`. To make this warning go away, please pass\n",
      "explicit `use_repetition_ids`, e.g., to preserve current behavior, use\n",
      "\n",
      "  CircuitOperations(..., use_repetition_ids=True)\n",
      "  warnings.warn(msg, FutureWarning)\n",
      "/Users/nachoblancasrodriguez/anaconda3/envs/yquantum-quera/lib/python3.13/site-packages/cirq/circuits/circuit_operation.py:173: FutureWarning: In cirq 1.6 the default value of `use_repetition_ids` will change to\n",
      "`use_repetition_ids=False`. To make this warning go away, please pass\n",
      "explicit `use_repetition_ids`, e.g., to preserve current behavior, use\n",
      "\n",
      "  CircuitOperations(..., use_repetition_ids=True)\n",
      "  warnings.warn(msg, FutureWarning)\n",
      "/Users/nachoblancasrodriguez/anaconda3/envs/yquantum-quera/lib/python3.13/site-packages/cirq/circuits/circuit_operation.py:173: FutureWarning: In cirq 1.6 the default value of `use_repetition_ids` will change to\n",
      "`use_repetition_ids=False`. To make this warning go away, please pass\n",
      "explicit `use_repetition_ids`, e.g., to preserve current behavior, use\n",
      "\n",
      "  CircuitOperations(..., use_repetition_ids=True)\n",
      "  warnings.warn(msg, FutureWarning)\n"
     ]
    },
    {
     "ename": "VerificationError",
     "evalue": "for loop body must have the same number of results as initializers",
     "output_type": "error",
     "traceback": [
      "\u001b[31m---------------------------------------------------------------------------\u001b[39m",
      "\u001b[31mVerificationError\u001b[39m                         Traceback (most recent call last)",
      "\u001b[36mCell\u001b[39m\u001b[36m \u001b[39m\u001b[32mIn[5]\u001b[39m\u001b[32m, line 54\u001b[39m\n\u001b[32m     51\u001b[39m     \u001b[38;5;28;01mreturn\u001b[39;00m qft_program\n\u001b[32m     53\u001b[39m target = QASM2()\n\u001b[32m---> \u001b[39m\u001b[32m54\u001b[39m ast = target.emit(\u001b[43mqft\u001b[49m\u001b[43m(\u001b[49m\u001b[32;43m3\u001b[39;49m\u001b[43m)\u001b[49m)\n\u001b[32m     55\u001b[39m pprint(ast)\n",
      "\u001b[36mCell\u001b[39m\u001b[36m \u001b[39m\u001b[32mIn[5]\u001b[39m\u001b[32m, line 20\u001b[39m, in \u001b[36mqft\u001b[39m\u001b[34m(n, parallelize)\u001b[39m\n\u001b[32m     15\u001b[39m         qasm2.cx(ctrl=qreg[j], qarg=qreg[j + step // \u001b[32m2\u001b[39m])\n\u001b[32m     16\u001b[39m         qasm2.barrier((qreg[j], qreg[j + step // \u001b[32m2\u001b[39m]))\n\u001b[32m---> \u001b[39m\u001b[32m20\u001b[39m \u001b[43m\u001b[49m\u001b[38;5;129;43m@extended_opt\u001b[39;49m\u001b[43m(\u001b[49m\u001b[43mparallelize\u001b[49m\u001b[43m=\u001b[49m\u001b[43mparallelize\u001b[49m\u001b[43m)\u001b[49m\n\u001b[32m     21\u001b[39m \u001b[43m\u001b[49m\u001b[38;5;28;43;01mdef\u001b[39;49;00m\u001b[38;5;250;43m \u001b[39;49m\u001b[34;43mqft_program\u001b[39;49m\u001b[43m(\u001b[49m\u001b[43m)\u001b[49m\u001b[43m:\u001b[49m\n\u001b[32m     22\u001b[39m \u001b[43m    \u001b[49m\u001b[43mqreg\u001b[49m\u001b[43m \u001b[49m\u001b[43m=\u001b[49m\u001b[43m \u001b[49m\u001b[43mqasm2\u001b[49m\u001b[43m.\u001b[49m\u001b[43mqreg\u001b[49m\u001b[43m(\u001b[49m\u001b[43mn_qubits\u001b[49m\u001b[43m)\u001b[49m\n\u001b[32m     23\u001b[39m \u001b[43m    \u001b[49m\u001b[43mcreg\u001b[49m\u001b[43m \u001b[49m\u001b[43m=\u001b[49m\u001b[43m \u001b[49m\u001b[43mqasm2\u001b[49m\u001b[43m.\u001b[49m\u001b[43mcreg\u001b[49m\u001b[43m(\u001b[49m\u001b[43mn_qubits\u001b[49m\u001b[43m)\u001b[49m\n",
      "\u001b[36mFile \u001b[39m\u001b[32m~/anaconda3/envs/yquantum-quera/lib/python3.13/site-packages/kirin/ir/group.py:217\u001b[39m, in \u001b[36mDialectGroup.__call__.<locals>.wrapper\u001b[39m\u001b[34m(py_func)\u001b[39m\n\u001b[32m    214\u001b[39m     mt.\u001b[34m__doc__\u001b[39m = doc\n\u001b[32m    216\u001b[39m \u001b[38;5;28;01mif\u001b[39;00m \u001b[38;5;28mself\u001b[39m.run_pass \u001b[38;5;129;01mis\u001b[39;00m \u001b[38;5;129;01mnot\u001b[39;00m \u001b[38;5;28;01mNone\u001b[39;00m:\n\u001b[32m--> \u001b[39m\u001b[32m217\u001b[39m     \u001b[38;5;28;43mself\u001b[39;49m\u001b[43m.\u001b[49m\u001b[43mrun_pass\u001b[49m\u001b[43m(\u001b[49m\u001b[43mmt\u001b[49m\u001b[43m,\u001b[49m\u001b[43m \u001b[49m\u001b[43m*\u001b[49m\u001b[43margs\u001b[49m\u001b[43m,\u001b[49m\u001b[43m \u001b[49m\u001b[43m*\u001b[49m\u001b[43m*\u001b[49m\u001b[43moptions\u001b[49m\u001b[43m)\u001b[49m\n\u001b[32m    218\u001b[39m \u001b[38;5;28;01mreturn\u001b[39;00m mt\n",
      "\u001b[36mCell\u001b[39m\u001b[36m \u001b[39m\u001b[32mIn[3]\u001b[39m\u001b[32m, line 27\u001b[39m, in \u001b[36mextended_opt.<locals>.run_pass\u001b[39m\u001b[34m(kernel, fold, typeinfer, parallelize)\u001b[39m\n\u001b[32m     25\u001b[39m \u001b[38;5;66;03m# here goes our parallelization optimizer; the order of the commands here matters!\u001b[39;00m\n\u001b[32m     26\u001b[39m \u001b[38;5;28;01mif\u001b[39;00m parallelize:\n\u001b[32m---> \u001b[39m\u001b[32m27\u001b[39m     \u001b[43magg_fold\u001b[49m\u001b[43m.\u001b[49m\u001b[43mfixpoint\u001b[49m\u001b[43m(\u001b[49m\u001b[43mkernel\u001b[49m\u001b[43m)\u001b[49m\n\u001b[32m     28\u001b[39m     parallelize_pass(kernel)\n",
      "\u001b[36mFile \u001b[39m\u001b[32m~/anaconda3/envs/yquantum-quera/lib/python3.13/site-packages/kirin/passes/abc.py:40\u001b[39m, in \u001b[36mPass.fixpoint\u001b[39m\u001b[34m(self, mt, max_iter)\u001b[39m\n\u001b[32m     38\u001b[39m     \u001b[38;5;28;01mif\u001b[39;00m \u001b[38;5;129;01mnot\u001b[39;00m result.has_done_something:\n\u001b[32m     39\u001b[39m         \u001b[38;5;28;01mbreak\u001b[39;00m\n\u001b[32m---> \u001b[39m\u001b[32m40\u001b[39m \u001b[43mmt\u001b[49m\u001b[43m.\u001b[49m\u001b[43mcode\u001b[49m\u001b[43m.\u001b[49m\u001b[43mverify\u001b[49m\u001b[43m(\u001b[49m\u001b[43m)\u001b[49m\n\u001b[32m     41\u001b[39m \u001b[38;5;28;01mreturn\u001b[39;00m result\n",
      "\u001b[36mFile \u001b[39m\u001b[32m<string>:3\u001b[39m, in \u001b[36m_kirin_decl_verify\u001b[39m\u001b[34m(self)\u001b[39m\n",
      "\u001b[36mFile \u001b[39m\u001b[32m~/anaconda3/envs/yquantum-quera/lib/python3.13/site-packages/kirin/ir/nodes/region.py:337\u001b[39m, in \u001b[36mRegion.verify\u001b[39m\u001b[34m(self)\u001b[39m\n\u001b[32m    332\u001b[39m     \u001b[38;5;28;01mraise\u001b[39;00m VerificationError(\n\u001b[32m    333\u001b[39m         \u001b[38;5;28mself\u001b[39m, \u001b[33m\"\u001b[39m\u001b[33mexpect Region to have a parent of type Statement\u001b[39m\u001b[33m\"\u001b[39m\n\u001b[32m    334\u001b[39m     )\n\u001b[32m    336\u001b[39m \u001b[38;5;28;01mfor\u001b[39;00m block \u001b[38;5;129;01min\u001b[39;00m \u001b[38;5;28mself\u001b[39m.blocks:\n\u001b[32m--> \u001b[39m\u001b[32m337\u001b[39m     \u001b[43mblock\u001b[49m\u001b[43m.\u001b[49m\u001b[43mverify\u001b[49m\u001b[43m(\u001b[49m\u001b[43m)\u001b[49m\n",
      "\u001b[36mFile \u001b[39m\u001b[32m~/anaconda3/envs/yquantum-quera/lib/python3.13/site-packages/kirin/ir/nodes/block.py:458\u001b[39m, in \u001b[36mBlock.verify\u001b[39m\u001b[34m(self)\u001b[39m\n\u001b[32m    455\u001b[39m     \u001b[38;5;28;01mraise\u001b[39;00m VerificationError(\u001b[38;5;28mself\u001b[39m, \u001b[33m\"\u001b[39m\u001b[33mParent is not a region\u001b[39m\u001b[33m\"\u001b[39m)\n\u001b[32m    457\u001b[39m \u001b[38;5;28;01mfor\u001b[39;00m stmt \u001b[38;5;129;01min\u001b[39;00m \u001b[38;5;28mself\u001b[39m.stmts:\n\u001b[32m--> \u001b[39m\u001b[32m458\u001b[39m     \u001b[43mstmt\u001b[49m\u001b[43m.\u001b[49m\u001b[43mverify\u001b[49m\u001b[43m(\u001b[49m\u001b[43m)\u001b[49m\n",
      "\u001b[36mFile \u001b[39m\u001b[32m~/anaconda3/envs/yquantum-quera/lib/python3.13/site-packages/kirin/dialects/scf/stmts.py:184\u001b[39m, in \u001b[36mFor.verify\u001b[39m\u001b[34m(self)\u001b[39m\n\u001b[32m    181\u001b[39m     \u001b[38;5;28;01mreturn\u001b[39;00m\n\u001b[32m    183\u001b[39m \u001b[38;5;28;01mif\u001b[39;00m \u001b[38;5;28mlen\u001b[39m(stmt.values) != \u001b[38;5;28mlen\u001b[39m(\u001b[38;5;28mself\u001b[39m.initializers):\n\u001b[32m--> \u001b[39m\u001b[32m184\u001b[39m     \u001b[38;5;28;01mraise\u001b[39;00m VerificationError(\n\u001b[32m    185\u001b[39m         \u001b[38;5;28mself\u001b[39m,\n\u001b[32m    186\u001b[39m         \u001b[33m\"\u001b[39m\u001b[33mfor loop body must have the same number of results as initializers\u001b[39m\u001b[33m\"\u001b[39m,\n\u001b[32m    187\u001b[39m     )\n\u001b[32m    188\u001b[39m \u001b[38;5;28;01mif\u001b[39;00m \u001b[38;5;28mlen\u001b[39m(\u001b[38;5;28mself\u001b[39m.results) != \u001b[38;5;28mlen\u001b[39m(stmt.values):\n\u001b[32m    189\u001b[39m     \u001b[38;5;28;01mraise\u001b[39;00m VerificationError(\n\u001b[32m    190\u001b[39m         \u001b[38;5;28mself\u001b[39m,\n\u001b[32m    191\u001b[39m         \u001b[33m\"\u001b[39m\u001b[33mfor loop must have the same number of results as the yield in the body\u001b[39m\u001b[33m\"\u001b[39m,\n\u001b[32m    192\u001b[39m     )\n",
      "\u001b[31mVerificationError\u001b[39m: for loop body must have the same number of results as initializers"
     ]
    }
   ],
   "source": [
    "import numpy as np\n",
    "\n",
    "def qft(n: int, parallelize: bool = True):\n",
    "    n_qubits = int(2**n)\n",
    "\n",
    "    @qasm2.extended\n",
    "    def layer_of_cx_ghz_series(start : int, n_qubits : int, qreg: qasm2.QReg):\n",
    "        for i in range(start, n_qubits):\n",
    "            qasm2.cx(qreg[0], qreg[i])\n",
    "\n",
    "    @extended_opt\n",
    "    def layer_of_cx(i_layer: int, qreg: qasm2.QReg):\n",
    "        step = n_qubits // (2**i_layer)\n",
    "        for j in range(0, n_qubits, step):\n",
    "            qasm2.cx(ctrl=qreg[j], qarg=qreg[j + step // 2])\n",
    "            qasm2.barrier((qreg[j], qreg[j + step // 2]))\n",
    "\n",
    "\n",
    "\n",
    "    @extended_opt(parallelize=parallelize)\n",
    "    def qft_program():\n",
    "        qreg = qasm2.qreg(n_qubits)\n",
    "        creg = qasm2.creg(n_qubits)\n",
    "        \n",
    "        for i in range(n_qubits):\n",
    "            qasm2.h(qreg[i])\n",
    "            sub_n = np.floor(np.log2(n_qubits - i))\n",
    "            sub_length = np.int(2 ** np.floor(np.log2(n_qubits - i)))\n",
    "            # Apply rotations in the middle\n",
    "            for j in range(n - i):\n",
    "                qasm2.rz(qreg[j + i], math.pi / (2**(j + 2)))\n",
    "\n",
    "            for j in range(sub_n):\n",
    "                layer_of_cx(i_layer=j, qreg=qreg)\n",
    "            layer_of_cx_ghz_series(start=sub_length + 1, n_qubits=n_qubits, qreg=qreg)\n",
    "            \n",
    "            # Apply rotations in the middle\n",
    "            for j in range(n - i):\n",
    "                qasm2.rz(qreg[j + i], -math.pi / (2**(j + 2)))\n",
    "            \n",
    "            for j in range(sub_n):\n",
    "                layer_of_cx(i_layer=j, qreg=qreg)\n",
    "            layer_of_cx_ghz_series(start=sub_length + 1, n_qubits=n_qubits, qreg=qreg)\n",
    "            qasm2.rz(qreg[i], ((2**(n - i + 1) - 1) * math.pi) / (2**(n - i + 2)))\n",
    "            \n",
    "        for i in range(n_qubits):\n",
    "            qasm2.measure(qreg[i],creg[i])\n",
    "            \n",
    "        return creg # return register for simulation\n",
    "\n",
    "    return qft_program\n",
    "\n",
    "target = QASM2()\n",
    "ast = target.emit(qft(3))\n",
    "pprint(ast)"
   ]
  },
  {
   "cell_type": "markdown",
   "id": "c0f80908",
   "metadata": {},
   "source": [
    "This block runs QFT on a given number of 2^n bits. It outputs each of the possible output states and the number of times each state was measured. Since the phase has no impact on the probability of a state being measured, the empirical probability distribution should read close to a uniform distribution across all states."
   ]
  },
  {
   "cell_type": "code",
   "execution_count": null,
   "id": "6b7f1c1a",
   "metadata": {},
   "outputs": [
    {
     "name": "stderr",
     "output_type": "stream",
     "text": [
      "/Users/nachoblancasrodriguez/anaconda3/envs/yquantum-quera/lib/python3.13/site-packages/cirq/circuits/circuit_operation.py:173: FutureWarning: In cirq 1.6 the default value of `use_repetition_ids` will change to\n",
      "`use_repetition_ids=False`. To make this warning go away, please pass\n",
      "explicit `use_repetition_ids`, e.g., to preserve current behavior, use\n",
      "\n",
      "  CircuitOperations(..., use_repetition_ids=True)\n",
      "  warnings.warn(msg, FutureWarning)\n",
      "/Users/nachoblancasrodriguez/anaconda3/envs/yquantum-quera/lib/python3.13/site-packages/cirq/circuits/circuit_operation.py:173: FutureWarning: In cirq 1.6 the default value of `use_repetition_ids` will change to\n",
      "`use_repetition_ids=False`. To make this warning go away, please pass\n",
      "explicit `use_repetition_ids`, e.g., to preserve current behavior, use\n",
      "\n",
      "  CircuitOperations(..., use_repetition_ids=True)\n",
      "  warnings.warn(msg, FutureWarning)\n",
      "/Users/nachoblancasrodriguez/anaconda3/envs/yquantum-quera/lib/python3.13/site-packages/cirq/circuits/circuit_operation.py:173: FutureWarning: In cirq 1.6 the default value of `use_repetition_ids` will change to\n",
      "`use_repetition_ids=False`. To make this warning go away, please pass\n",
      "explicit `use_repetition_ids`, e.g., to preserve current behavior, use\n",
      "\n",
      "  CircuitOperations(..., use_repetition_ids=True)\n",
      "  warnings.warn(msg, FutureWarning)\n",
      "/Users/nachoblancasrodriguez/anaconda3/envs/yquantum-quera/lib/python3.13/site-packages/cirq/circuits/circuit_operation.py:173: FutureWarning: In cirq 1.6 the default value of `use_repetition_ids` will change to\n",
      "`use_repetition_ids=False`. To make this warning go away, please pass\n",
      "explicit `use_repetition_ids`, e.g., to preserve current behavior, use\n",
      "\n",
      "  CircuitOperations(..., use_repetition_ids=True)\n",
      "  warnings.warn(msg, FutureWarning)\n",
      "/Users/nachoblancasrodriguez/anaconda3/envs/yquantum-quera/lib/python3.13/site-packages/cirq/circuits/circuit_operation.py:173: FutureWarning: In cirq 1.6 the default value of `use_repetition_ids` will change to\n",
      "`use_repetition_ids=False`. To make this warning go away, please pass\n",
      "explicit `use_repetition_ids`, e.g., to preserve current behavior, use\n",
      "\n",
      "  CircuitOperations(..., use_repetition_ids=True)\n",
      "  warnings.warn(msg, FutureWarning)\n",
      "/Users/nachoblancasrodriguez/anaconda3/envs/yquantum-quera/lib/python3.13/site-packages/cirq/circuits/circuit_operation.py:173: FutureWarning: In cirq 1.6 the default value of `use_repetition_ids` will change to\n",
      "`use_repetition_ids=False`. To make this warning go away, please pass\n",
      "explicit `use_repetition_ids`, e.g., to preserve current behavior, use\n",
      "\n",
      "  CircuitOperations(..., use_repetition_ids=True)\n",
      "  warnings.warn(msg, FutureWarning)\n",
      "/Users/nachoblancasrodriguez/anaconda3/envs/yquantum-quera/lib/python3.13/site-packages/cirq/circuits/circuit_operation.py:173: FutureWarning: In cirq 1.6 the default value of `use_repetition_ids` will change to\n",
      "`use_repetition_ids=False`. To make this warning go away, please pass\n",
      "explicit `use_repetition_ids`, e.g., to preserve current behavior, use\n",
      "\n",
      "  CircuitOperations(..., use_repetition_ids=True)\n",
      "  warnings.warn(msg, FutureWarning)\n",
      "/Users/nachoblancasrodriguez/anaconda3/envs/yquantum-quera/lib/python3.13/site-packages/cirq/circuits/circuit_operation.py:173: FutureWarning: In cirq 1.6 the default value of `use_repetition_ids` will change to\n",
      "`use_repetition_ids=False`. To make this warning go away, please pass\n",
      "explicit `use_repetition_ids`, e.g., to preserve current behavior, use\n",
      "\n",
      "  CircuitOperations(..., use_repetition_ids=True)\n",
      "  warnings.warn(msg, FutureWarning)\n",
      "/Users/nachoblancasrodriguez/anaconda3/envs/yquantum-quera/lib/python3.13/site-packages/cirq/circuits/circuit_operation.py:173: FutureWarning: In cirq 1.6 the default value of `use_repetition_ids` will change to\n",
      "`use_repetition_ids=False`. To make this warning go away, please pass\n",
      "explicit `use_repetition_ids`, e.g., to preserve current behavior, use\n",
      "\n",
      "  CircuitOperations(..., use_repetition_ids=True)\n",
      "  warnings.warn(msg, FutureWarning)\n"
     ]
    },
    {
     "name": "stdout",
     "output_type": "stream",
     "text": [
      "00 540\n",
      "01 463\n",
      "11 494\n",
      "10 503\n"
     ]
    }
   ],
   "source": [
    "from bloqade.pyqrack import PyQrack\n",
    "from collections import Counter\n",
    "\n",
    "device = PyQrack(dynamic_qubits=True, pyqrack_options={\"isBinaryDecisionTree\": False})\n",
    "kernel = qft(1)\n",
    "results = device.multi_run(kernel, _shots=2000)\n",
    "\n",
    "def to_bitstrings(results):\n",
    "    return Counter(map(lambda result:\"\".join(map(str, result)), results))\n",
    "\n",
    "counts = to_bitstrings(results)\n",
    "\n",
    "for key, value in counts.items():\n",
    "    print(key, value)"
   ]
  }
 ],
 "metadata": {
  "kernelspec": {
   "display_name": "yquantum-quera",
   "language": "python",
   "name": "python3"
  },
  "language_info": {
   "codemirror_mode": {
    "name": "ipython",
    "version": 3
   },
   "file_extension": ".py",
   "mimetype": "text/x-python",
   "name": "python",
   "nbconvert_exporter": "python",
   "pygments_lexer": "ipython3",
   "version": "3.13.2"
  }
 },
 "nbformat": 4,
 "nbformat_minor": 5
}
